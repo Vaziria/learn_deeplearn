{
 "cells": [
  {
   "cell_type": "code",
   "execution_count": 23,
   "metadata": {},
   "outputs": [],
   "source": [
    "from tensorflow import keras\n",
    "import tensorflow as tf\n",
    "import pandas as pd\n",
    "import numpy as np\n",
    "from sklearn.model_selection import train_test_split\n",
    "from sklearn.preprocessing import MinMaxScaler"
   ]
  },
  {
   "cell_type": "code",
   "execution_count": 24,
   "metadata": {},
   "outputs": [
    {
     "data": {
      "text/plain": [
       "Index(['itemid', 'shopid', 'name', 'url', 'image', 'created', 'price'], dtype='object')"
      ]
     },
     "execution_count": 24,
     "metadata": {},
     "output_type": "execute_result"
    }
   ],
   "source": [
    "dataset = pd.read_csv('dataset.csv')\n",
    "dataset.columns\n"
   ]
  },
  {
   "cell_type": "code",
   "execution_count": 25,
   "metadata": {},
   "outputs": [
    {
     "data": {
      "text/html": [
       "<div>\n",
       "<style scoped>\n",
       "    .dataframe tbody tr th:only-of-type {\n",
       "        vertical-align: middle;\n",
       "    }\n",
       "\n",
       "    .dataframe tbody tr th {\n",
       "        vertical-align: top;\n",
       "    }\n",
       "\n",
       "    .dataframe thead th {\n",
       "        text-align: right;\n",
       "    }\n",
       "</style>\n",
       "<table border=\"1\" class=\"dataframe\">\n",
       "  <thead>\n",
       "    <tr style=\"text-align: right;\">\n",
       "      <th></th>\n",
       "      <th>itemid</th>\n",
       "      <th>shopid</th>\n",
       "      <th>name</th>\n",
       "      <th>url</th>\n",
       "      <th>image</th>\n",
       "      <th>created</th>\n",
       "      <th>price</th>\n",
       "    </tr>\n",
       "  </thead>\n",
       "  <tbody>\n",
       "    <tr>\n",
       "      <th>0</th>\n",
       "      <td>3787635903</td>\n",
       "      <td>252709596</td>\n",
       "      <td>Streetwear Celana Olahraga Pria Katun Kasual C...</td>\n",
       "      <td>https://shopee.co.id/Streetwear-Celana-Olahrag...</td>\n",
       "      <td>{bc03c334465ef3cfb946fdb1062b6cc3,35ba8d147561...</td>\n",
       "      <td>2021-04-28 10:26:16</td>\n",
       "      <td>0.000082</td>\n",
       "    </tr>\n",
       "    <tr>\n",
       "      <th>1</th>\n",
       "      <td>11359837015</td>\n",
       "      <td>6474527</td>\n",
       "      <td>SETCEL HITAM SET CELANA JUMBO SET BAHAN RAJUT ...</td>\n",
       "      <td>https://shopee.co.id/SETCEL-HITAM-SET-CELANA-J...</td>\n",
       "      <td>{af656ef3769da0d1e319d3978a074020,c2af8fbcd3d9...</td>\n",
       "      <td>2021-10-15 07:56:46</td>\n",
       "      <td>0.000273</td>\n",
       "    </tr>\n",
       "    <tr>\n",
       "      <th>2</th>\n",
       "      <td>15409657235</td>\n",
       "      <td>303783498</td>\n",
       "      <td>FREE ONGKIR/ JENIE / SOOYUN/ BOLERO LALISA/ CA...</td>\n",
       "      <td>https://shopee.co.id/FREE-ONGKIR-JENIE-SOOYUN-...</td>\n",
       "      <td>{afcc598e995399f25bef797092ce1633,164e70056421...</td>\n",
       "      <td>2021-11-30 13:46:39</td>\n",
       "      <td>0.000082</td>\n",
       "    </tr>\n",
       "    <tr>\n",
       "      <th>3</th>\n",
       "      <td>15908100313</td>\n",
       "      <td>5591523</td>\n",
       "      <td>Kalula Outer Scarf by This.For.Uu</td>\n",
       "      <td>https://shopee.co.id/Kalula-Outer-Scarf-by-Thi...</td>\n",
       "      <td>{07d4c6fe64bd13eb5f6976f03a24be98}</td>\n",
       "      <td>2021-11-28 03:29:20</td>\n",
       "      <td>0.000116</td>\n",
       "    </tr>\n",
       "    <tr>\n",
       "      <th>4</th>\n",
       "      <td>11445308177</td>\n",
       "      <td>252709596</td>\n",
       "      <td>Jaket Wanita Olin Button Gaya Casual Korea</td>\n",
       "      <td>https://shopee.co.id/Jaket-Wanita-Olin-Button-...</td>\n",
       "      <td>{b70335366a215eb39f2837f4aa7d17e4,bcda6e5bb308...</td>\n",
       "      <td>2021-09-04 14:25:33</td>\n",
       "      <td>0.000079</td>\n",
       "    </tr>\n",
       "  </tbody>\n",
       "</table>\n",
       "</div>"
      ],
      "text/plain": [
       "        itemid     shopid                                               name  \\\n",
       "0   3787635903  252709596  Streetwear Celana Olahraga Pria Katun Kasual C...   \n",
       "1  11359837015    6474527  SETCEL HITAM SET CELANA JUMBO SET BAHAN RAJUT ...   \n",
       "2  15409657235  303783498  FREE ONGKIR/ JENIE / SOOYUN/ BOLERO LALISA/ CA...   \n",
       "3  15908100313    5591523                  Kalula Outer Scarf by This.For.Uu   \n",
       "4  11445308177  252709596         Jaket Wanita Olin Button Gaya Casual Korea   \n",
       "\n",
       "                                                 url  \\\n",
       "0  https://shopee.co.id/Streetwear-Celana-Olahrag...   \n",
       "1  https://shopee.co.id/SETCEL-HITAM-SET-CELANA-J...   \n",
       "2  https://shopee.co.id/FREE-ONGKIR-JENIE-SOOYUN-...   \n",
       "3  https://shopee.co.id/Kalula-Outer-Scarf-by-Thi...   \n",
       "4  https://shopee.co.id/Jaket-Wanita-Olin-Button-...   \n",
       "\n",
       "                                               image              created  \\\n",
       "0  {bc03c334465ef3cfb946fdb1062b6cc3,35ba8d147561...  2021-04-28 10:26:16   \n",
       "1  {af656ef3769da0d1e319d3978a074020,c2af8fbcd3d9...  2021-10-15 07:56:46   \n",
       "2  {afcc598e995399f25bef797092ce1633,164e70056421...  2021-11-30 13:46:39   \n",
       "3                 {07d4c6fe64bd13eb5f6976f03a24be98}  2021-11-28 03:29:20   \n",
       "4  {b70335366a215eb39f2837f4aa7d17e4,bcda6e5bb308...  2021-09-04 14:25:33   \n",
       "\n",
       "      price  \n",
       "0  0.000082  \n",
       "1  0.000273  \n",
       "2  0.000082  \n",
       "3  0.000116  \n",
       "4  0.000079  "
      ]
     },
     "execution_count": 25,
     "metadata": {},
     "output_type": "execute_result"
    }
   ],
   "source": [
    "min_max_sc = MinMaxScaler()\n",
    "dataset[['price']] = min_max_sc.fit_transform(dataset[['price']])\n",
    "dataset.head()"
   ]
  },
  {
   "cell_type": "code",
   "execution_count": 26,
   "metadata": {},
   "outputs": [
    {
     "data": {
      "text/html": [
       "<div>\n",
       "<style scoped>\n",
       "    .dataframe tbody tr th:only-of-type {\n",
       "        vertical-align: middle;\n",
       "    }\n",
       "\n",
       "    .dataframe tbody tr th {\n",
       "        vertical-align: top;\n",
       "    }\n",
       "\n",
       "    .dataframe thead th {\n",
       "        text-align: right;\n",
       "    }\n",
       "</style>\n",
       "<table border=\"1\" class=\"dataframe\">\n",
       "  <thead>\n",
       "    <tr style=\"text-align: right;\">\n",
       "      <th></th>\n",
       "      <th>itemid</th>\n",
       "      <th>shopid</th>\n",
       "      <th>name</th>\n",
       "      <th>url</th>\n",
       "      <th>image</th>\n",
       "      <th>created</th>\n",
       "      <th>price</th>\n",
       "    </tr>\n",
       "  </thead>\n",
       "  <tbody>\n",
       "    <tr>\n",
       "      <th>28389</th>\n",
       "      <td>9611408802</td>\n",
       "      <td>241411089</td>\n",
       "      <td>{{ORIGINAL}} Pelindung Kepala Head Protector H...</td>\n",
       "      <td>https://shopee.co.id/-ORIGINAL-Pelindung-Kepal...</td>\n",
       "      <td>{cffa65f7ed95b9df7528b18d69389b84,cca4f963754b...</td>\n",
       "      <td>2021-01-23 16:40:21</td>\n",
       "      <td>0.000309</td>\n",
       "    </tr>\n",
       "    <tr>\n",
       "      <th>20193</th>\n",
       "      <td>2378440130</td>\n",
       "      <td>109826396</td>\n",
       "      <td>Sen Tempel Lampu Sein Tempel Segitiga LED Univ...</td>\n",
       "      <td>https://shopee.co.id/Sen-Tempel-Segitiga-LED-U...</td>\n",
       "      <td>{764ff06db953af367ef60f488dafb5eb,95e7eacd1902...</td>\n",
       "      <td>2019-07-02 03:03:12</td>\n",
       "      <td>0.000021</td>\n",
       "    </tr>\n",
       "    <tr>\n",
       "      <th>40454</th>\n",
       "      <td>5545117465</td>\n",
       "      <td>73424710</td>\n",
       "      <td>Wheeldop Tutup Velg Peleg Sepeda (Motor)</td>\n",
       "      <td>https://shopee.co.id/Wheeldop-Tutup-Velg-Peleg...</td>\n",
       "      <td>{e5020dddb004210a246154e7c39b3c02,ed5c56101979...</td>\n",
       "      <td>2020-08-05 07:41:42</td>\n",
       "      <td>0.000182</td>\n",
       "    </tr>\n",
       "    <tr>\n",
       "      <th>86555</th>\n",
       "      <td>7760669195</td>\n",
       "      <td>219569755</td>\n",
       "      <td>[✅COD] Celana Dalam Wanita Premium Quality CD ...</td>\n",
       "      <td>https://shopee.co.id/-%E2%9C%85COD-Celana-Dala...</td>\n",
       "      <td>{b73ea27a9b07515ee434b8d5a2f69312,7ad6840babf1...</td>\n",
       "      <td>2020-11-02 17:48:21</td>\n",
       "      <td>0.000036</td>\n",
       "    </tr>\n",
       "    <tr>\n",
       "      <th>94255</th>\n",
       "      <td>7048402116</td>\n",
       "      <td>282191467</td>\n",
       "      <td>Jaket Pria Wanita Cougle Float Noise Parasut T...</td>\n",
       "      <td>https://shopee.co.id/x-x-x-i.7048402116.282191467</td>\n",
       "      <td>{ea49b69d53a37e19ea7bc99402d0eaaa,130e2aea6be4...</td>\n",
       "      <td>2020-08-23 11:19:31</td>\n",
       "      <td>0.000233</td>\n",
       "    </tr>\n",
       "  </tbody>\n",
       "</table>\n",
       "</div>"
      ],
      "text/plain": [
       "           itemid     shopid  \\\n",
       "28389  9611408802  241411089   \n",
       "20193  2378440130  109826396   \n",
       "40454  5545117465   73424710   \n",
       "86555  7760669195  219569755   \n",
       "94255  7048402116  282191467   \n",
       "\n",
       "                                                    name  \\\n",
       "28389  {{ORIGINAL}} Pelindung Kepala Head Protector H...   \n",
       "20193  Sen Tempel Lampu Sein Tempel Segitiga LED Univ...   \n",
       "40454           Wheeldop Tutup Velg Peleg Sepeda (Motor)   \n",
       "86555  [✅COD] Celana Dalam Wanita Premium Quality CD ...   \n",
       "94255  Jaket Pria Wanita Cougle Float Noise Parasut T...   \n",
       "\n",
       "                                                     url  \\\n",
       "28389  https://shopee.co.id/-ORIGINAL-Pelindung-Kepal...   \n",
       "20193  https://shopee.co.id/Sen-Tempel-Segitiga-LED-U...   \n",
       "40454  https://shopee.co.id/Wheeldop-Tutup-Velg-Peleg...   \n",
       "86555  https://shopee.co.id/-%E2%9C%85COD-Celana-Dala...   \n",
       "94255  https://shopee.co.id/x-x-x-i.7048402116.282191467   \n",
       "\n",
       "                                                   image              created  \\\n",
       "28389  {cffa65f7ed95b9df7528b18d69389b84,cca4f963754b...  2021-01-23 16:40:21   \n",
       "20193  {764ff06db953af367ef60f488dafb5eb,95e7eacd1902...  2019-07-02 03:03:12   \n",
       "40454  {e5020dddb004210a246154e7c39b3c02,ed5c56101979...  2020-08-05 07:41:42   \n",
       "86555  {b73ea27a9b07515ee434b8d5a2f69312,7ad6840babf1...  2020-11-02 17:48:21   \n",
       "94255  {ea49b69d53a37e19ea7bc99402d0eaaa,130e2aea6be4...  2020-08-23 11:19:31   \n",
       "\n",
       "          price  \n",
       "28389  0.000309  \n",
       "20193  0.000021  \n",
       "40454  0.000182  \n",
       "86555  0.000036  \n",
       "94255  0.000233  "
      ]
     },
     "execution_count": 26,
     "metadata": {},
     "output_type": "execute_result"
    }
   ],
   "source": [
    "train, test = train_test_split(dataset, test_size=0.2)\n",
    "train.head()"
   ]
  },
  {
   "cell_type": "markdown",
   "metadata": {},
   "source": [
    "# create model"
   ]
  },
  {
   "cell_type": "markdown",
   "metadata": {},
   "source": [
    "# Test loss function"
   ]
  },
  {
   "cell_type": "code",
   "execution_count": 62,
   "metadata": {},
   "outputs": [
    {
     "data": {
      "text/plain": [
       "9.25"
      ]
     },
     "execution_count": 62,
     "metadata": {},
     "output_type": "execute_result"
    }
   ],
   "source": [
    "y_true = [12, 20, 29., 60.]\n",
    "y_pred = [14., 18., 27., 55.]\n",
    "mse = tf.keras.losses.MeanSquaredError()\n",
    "mse(y_true, y_pred).numpy()\n"
   ]
  },
  {
   "cell_type": "markdown",
   "metadata": {},
   "source": [
    "# 1 D Layer"
   ]
  },
  {
   "cell_type": "markdown",
   "metadata": {},
   "source": [
    "seperti flattening"
   ]
  },
  {
   "cell_type": "code",
   "execution_count": 49,
   "metadata": {},
   "outputs": [
    {
     "name": "stdout",
     "output_type": "stream",
     "text": [
      "tf.Tensor(\n",
      "[[[ 1.5052961   0.302629   -0.33753902 -1.7845367   0.22136006\n",
      "   -1.1632321   1.1316687   0.58353525  0.6356116   1.4086324 ]\n",
      "  [ 0.7464467  -0.8878024   0.05895403  1.5185667  -0.20384908\n",
      "    1.4984776  -0.1936614   1.331584    0.08394321  1.5280132 ]\n",
      "  [ 0.07215419 -0.14074957  1.3221294  -1.1650016   1.0759389\n",
      "   -0.7487836   1.1834902  -1.8795924  -1.673398   -0.9549372 ]\n",
      "  [ 0.4954189  -0.00541644 -0.50666505 -1.6927085  -0.737521\n",
      "   -0.7999481   0.72518855 -1.206751    0.07502055 -0.5932916 ]]], shape=(1, 4, 10), dtype=float32)\n",
      "(1, 10)\n"
     ]
    }
   ],
   "source": [
    "input_shape = (1,4,10)\n",
    "x = tf.random.normal(input_shape)\n",
    "print(x)\n",
    "y = tf.keras.layers.GlobalAveragePooling1D()(x)\n",
    "print(y.shape)"
   ]
  },
  {
   "cell_type": "markdown",
   "metadata": {},
   "source": [
    "# Embeded Layer"
   ]
  },
  {
   "cell_type": "code",
   "execution_count": 51,
   "metadata": {},
   "outputs": [],
   "source": [
    "embedding_layer = keras.layers.Embedding(1000, 16)"
   ]
  },
  {
   "cell_type": "code",
   "execution_count": 53,
   "metadata": {},
   "outputs": [
    {
     "data": {
      "text/plain": [
       "(3, 16)"
      ]
     },
     "execution_count": 53,
     "metadata": {},
     "output_type": "execute_result"
    }
   ],
   "source": [
    "result = embedding_layer(tf.constant([1, 2, 3]))\n",
    "result.numpy().shape"
   ]
  },
  {
   "cell_type": "markdown",
   "metadata": {},
   "source": [
    "# vectorize layer"
   ]
  },
  {
   "cell_type": "code",
   "execution_count": 57,
   "metadata": {},
   "outputs": [
    {
     "data": {
      "text/plain": [
       "<tf.Tensor: shape=(100,), dtype=int64, numpy=\n",
       "array([13248,  5602,   698,   311,  1122,    13,   394,    13,     0,\n",
       "           0,     0,     0,     0,     0,     0,     0,     0,     0,\n",
       "           0,     0,     0,     0,     0,     0,     0,     0,     0,\n",
       "           0,     0,     0,     0,     0,     0,     0,     0,     0,\n",
       "           0,     0,     0,     0,     0,     0,     0,     0,     0,\n",
       "           0,     0,     0,     0,     0,     0,     0,     0,     0,\n",
       "           0,     0,     0,     0,     0,     0,     0,     0,     0,\n",
       "           0,     0,     0,     0,     0,     0,     0,     0,     0,\n",
       "           0,     0,     0,     0,     0,     0,     0,     0,     0,\n",
       "           0,     0,     0,     0,     0,     0,     0,     0,     0,\n",
       "           0,     0,     0,     0,     0,     0,     0,     0,     0,\n",
       "           0], dtype=int64)>"
      ]
     },
     "execution_count": 57,
     "metadata": {},
     "output_type": "execute_result"
    }
   ],
   "source": [
    "vocab_size = 100000\n",
    "sequence_length = 100\n",
    "\n",
    "# Use the text vectorization layer to normalize, split, and map strings to\n",
    "# integers. Note that the layer uses the custom standardization defined above.\n",
    "# Set maximum_sequence length as all samples are not of the same length.\n",
    "vectorize_layer = keras.layers.TextVectorization(\n",
    "    standardize= \"lower_and_strip_punctuation\",\n",
    "    max_tokens=vocab_size,\n",
    "    output_mode='int',\n",
    "    output_sequence_length=sequence_length)\n",
    "\n",
    "vectorize_layer.adapt(train.name)\n",
    "\n",
    "vectorize_layer(\"MOHLER Coloring Rose Pink (BELI 1 GRATIS 1)\")"
   ]
  },
  {
   "cell_type": "code",
   "execution_count": 30,
   "metadata": {},
   "outputs": [],
   "source": [
    "from keras.models import Sequential\n",
    "from keras.layers import Dense\n",
    "from keras.layers import Embedding, GlobalAveragePooling1D"
   ]
  },
  {
   "cell_type": "code",
   "execution_count": 76,
   "metadata": {},
   "outputs": [],
   "source": [
    "embedding_dim=50\n",
    "\n",
    "model = Sequential([\n",
    "  tf.keras.Input(shape=(1,), dtype=tf.string),\n",
    "  vectorize_layer,\n",
    "  Embedding(vocab_size, embedding_dim, name=\"embedding\"),\n",
    "  GlobalAveragePooling1D(),\n",
    "  Dense(50, activation='relu'),\n",
    "  Dense(20, activation='relu'),\n",
    "  Dense(1)\n",
    "])\n",
    "\n",
    "model.compile(optimizer='adam',\n",
    "  loss=['mean_squared_error'],\n",
    "  metrics=['accuracy'])"
   ]
  },
  {
   "cell_type": "code",
   "execution_count": 78,
   "metadata": {},
   "outputs": [
    {
     "name": "stdout",
     "output_type": "stream",
     "text": [
      "255/255 [==============================] - 8s 30ms/step - loss: 1.3556e-05 - accuracy: 0.0030\n"
     ]
    },
    {
     "data": {
      "text/plain": [
       "<keras.callbacks.History at 0x1ce809a6760>"
      ]
     },
     "execution_count": 78,
     "metadata": {},
     "output_type": "execute_result"
    }
   ],
   "source": [
    "model.fit(train.name, train.price, batch_size=300)"
   ]
  },
  {
   "cell_type": "code",
   "execution_count": 72,
   "metadata": {},
   "outputs": [
    {
     "name": "stdout",
     "output_type": "stream",
     "text": [
      "1/1 [==============================] - 0s 33ms/step\n"
     ]
    },
    {
     "data": {
      "text/plain": [
       "array([[236489.92]], dtype=float32)"
      ]
     },
     "execution_count": 72,
     "metadata": {},
     "output_type": "execute_result"
    }
   ],
   "source": [
    "pred = model.predict([\"gamis maxmara Lux LD 100cm 140cm Ukuran L XL XXL XXXL XXXXL\"])\n",
    "min_max_sc.inverse_transform(pred)"
   ]
  }
 ],
 "metadata": {
  "kernelspec": {
   "display_name": "Python 3.9.7 ('.venv': pipenv)",
   "language": "python",
   "name": "python3"
  },
  "language_info": {
   "codemirror_mode": {
    "name": "ipython",
    "version": 3
   },
   "file_extension": ".py",
   "mimetype": "text/x-python",
   "name": "python",
   "nbconvert_exporter": "python",
   "pygments_lexer": "ipython3",
   "version": "3.9.7"
  },
  "orig_nbformat": 4,
  "vscode": {
   "interpreter": {
    "hash": "4fedbeefd614611d93c3aeae790ed442b72f0dc49db453f721118dfe2a6944fe"
   }
  }
 },
 "nbformat": 4,
 "nbformat_minor": 2
}
